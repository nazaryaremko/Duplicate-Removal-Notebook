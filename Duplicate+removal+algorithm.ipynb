{
 "cells": [
  {
   "cell_type": "markdown",
   "metadata": {},
   "source": [
    "#  RUN THESE FIELDS TO PREPARE NECESSARY LIBRARIES AND DATA"
   ]
  },
  {
   "cell_type": "code",
   "execution_count": 94,
   "metadata": {},
   "outputs": [
    {
     "name": "stderr",
     "output_type": "stream",
     "text": [
      "[nltk_data] Downloading package punkt to\n",
      "[nltk_data]     /Users/nazaryaremko/nltk_data...\n",
      "[nltk_data]   Package punkt is already up-to-date!\n"
     ]
    }
   ],
   "source": [
    "#downloading all required libraries\n",
    "import pandas as pd\n",
    "import nltk\n",
    "import os\n",
    "nltk.download('punkt')\n",
    "import difflib\n",
    "from nltk.stem import PorterStemmer \n",
    "from nltk.tokenize import word_tokenize"
   ]
  },
  {
   "cell_type": "code",
   "execution_count": 89,
   "metadata": {
    "collapsed": true
   },
   "outputs": [],
   "source": [
    "#this creates a map of names to convert them from Russian to Ukrainian and from Ukrainian to Russian\n",
    "name_map = '/Users/nazaryaremko/Desktop/Names mapping.xlsx'\n",
    "name_df = pd.read_excel(name_map)\n",
    "name_dic_ru_to_ua = {}\n",
    "name_dic_ua_to_ru = {}\n",
    "for i in range(len(name_df)):\n",
    "    name_dic_ru_to_ua[name_df.iloc[i][2]] = name_df.iloc[i][1]\n",
    "    name_dic_ua_to_ru[name_df.iloc[i][1]] = name_df.iloc[i][2]"
   ]
  },
  {
   "cell_type": "code",
   "execution_count": 56,
   "metadata": {},
   "outputs": [
    {
     "name": "stdout",
     "output_type": "stream",
     "text": [
      "{'Александр': nan, 'Анна': 'Анна', 'Сергей': nan, 'Дмитрий': 'Дмитро', 'Ольга': 'Ольга', 'Андрей': 'Андрій', 'Юлия': 'Юлія', 'Анастасия': 'Анастасія', 'Максим': 'Максим', 'Татьяна': 'Тетяна', 'Елена': 'Олена', 'Евгений': 'Євген', 'Ирина': nan, 'Оксана': 'Оксана', 'Владислав': nan, 'Роман': 'Роман', 'Алексей': 'Олексій', 'Олег': 'Олег', 'Марина': 'Марина', 'Екатерина': 'Катерина', 'Виктория': nan, 'Денис': 'Денис', 'Игорь': 'Ігор', 'Владимир': nan, 'Наталья': nan, 'Виталий': 'Віталій', 'Богдан': 'Богдан', 'Антон': nan, 'Яна': 'Яна', 'Юрий': nan, 'Алина': 'Аліна', 'Артём': 'Артем', 'Светлана': 'Світлана', 'Мария': 'Марія', 'Вадим': 'Вадим', 'Людмила': 'Людмила', 'Дарья': 'Дарія', 'Николай': nan, 'Ярослав': 'Ярослав', 'Михаил': 'Михайло', 'Иван': 'Іван', 'Александра': 'Олександра', 'Руслан': 'Руслан', 'Павел': 'Павло', 'Валерия': 'Валерія', 'Инна': 'Інна', 'Константин': nan, 'Вячеслав': \"В'ячеслав\", 'Тарас': 'Тарас', 'Галина': 'Галина', 'Никита': nan, 'Алёна': 'Альона', 'Валентина': 'Валентина', 'Кристина': 'Христина', 'Станислав': 'Станіслав', 'Евгения': 'Євгенія', 'Карина': 'Каріна', 'Илья': nan, 'Алла': 'Алла', 'Василий': 'Василь', 'Кирилл': nan, 'Артур': 'Артур', 'Елизавета': 'Єлизавета', 'Ксения': 'Ксенія', 'Валерий': nan, 'Диана': 'Діана', 'Надежда': 'Надія', 'Маргарита': 'Маргарита', 'Анатолий': 'Анатолій', 'Валентин': nan, 'Олеся': 'Олеся', 'Назар': 'Назар', 'Виктор': 'Віктор', 'Дарина': 'Дарина', 'Лилия': 'Лілія', 'Леся': 'Леся', 'Вероника': nan, 'Ростислав': 'Ростислав', 'Иванна': 'Іванна', 'София': nan, 'Егор': 'Єгор', 'Лариса': 'Лариса', 'Руслана': 'Руслана', 'Даниил': 'Данило', 'Марьяна': \"Мар'яна\", 'Любовь': 'Любов', 'Марта': 'Марта', 'Владислава': 'Владислава', 'Полина': nan, 'Петр': 'Петро', 'Эдуард': 'Едуард', 'Святослав': 'Святослав', 'Мирослава': 'Мирослава', 'Борис': 'Борис', 'Ярослава': 'Ярослава', 'Степан': 'Степан', 'Богдана': 'Богдана', 'Даря': \"Дар'я\", 'Ульяна': 'Уляна', 'Леонид': 'Леонід', 'Вита': 'Віта', 'Георгий': nan, 'Тамара': 'Тамара', 'Геннадий': nan, 'Жанна': 'Жанна', 'Ангелина': 'Ангеліна', 'Анжела': 'Анжела', 'Вера': 'Віра', 'Илона': 'Ілона', 'Нина': 'Ніна', 'Соломия': 'Соломія', 'Антонина': 'Антоніна', 'Дария': 'Дарія', 'Зоряна': 'Зоряна', 'Анжелика': 'Анжеліка', 'Григорий': nan, 'Алиса': 'Аліса', 'Тимур': 'Тимур', 'Роксолана': 'Роксолана', 'Глеб': 'Гліб', 'Лидия': 'Лідія', 'Мирослав': 'Мирослав', 'Любомир': nan, 'Давид': 'Давид', 'Ярина': 'Ярина', 'Марк': 'Марко', 'Ян': 'Ян', 'Снежана': 'Сніжана', 'Таисия': 'Таїсія', 'Василина': 'Василина', 'Остап': 'Остап', 'Виолетта': 'Віолетта', 'Орест': 'Орест', 'Тимофей': nan, 'Зоя': 'Зоя', 'Лина': nan, 'Арина': 'Аріна', 'Неля': 'Неля', 'Альбина': 'Альбіна', 'Алеся': 'Алеся', 'Семен': 'Семен', 'Виталина': 'Віталіна', 'Марьян': \"Мар'ян\", 'Арсен': nan, 'Элина': 'Еліна', 'Виталия': 'Віталія', 'Андриана': 'Андріана', 'Филипп': 'Філіп', 'Родион': 'Родіон', 'Эльвира': 'Ельвіра', 'Марианна': 'Маріанна', 'Федор': 'Федір', 'Всеволод': 'Всеволод', 'Янина': 'Яніна', 'Майя': 'Майя', 'Захар': 'Захар', 'Рустам': 'Рустам', 'Дина': 'Діна', 'Инесса': 'Інеса', 'Каролина': 'Кароліна', 'Дана': 'Дана', 'Инга': 'Інга', 'Герман': nan, 'Тамила': 'Таміла', 'Юлиана': 'Юліана', 'Аркадий': 'Аркадій', 'Лиана': 'Ліана', 'Римма': 'Римма', 'Владлена': 'Владлена', 'Олесь': 'Олесь', 'Алевтина': 'Алевтина', 'Яков': 'Яків', 'Альберт': 'Альберт', 'Варвара': 'Варвара', 'Элеонора': 'Елеонора', 'Ася': 'Ася', 'Регина': 'Регіна', 'Сабина': 'Сабіна', 'Владлен': 'Владлен', 'Элла': 'Елла', 'Лев': 'Лев', 'Злата': 'Злата', 'Лолита': 'Лоліта', 'Матвей': 'Матвій', 'Ева': 'Єва', 'Иванка': 'Іванна', 'Эльмира': 'Ельміра', 'Лейла': 'Лейла', 'Роберт': 'Роберт', 'Алекс': 'Алекс', 'Зинаида': 'Зінаїда', 'Мила': 'Міла', 'Лада': 'Лада', 'Орися': nan, 'Рита': 'Рита', 'Нелли': 'Неллі', 'Раиса': 'Раїса', 'Кира': 'Кіра', 'Романа': 'Романа', 'Даяна': 'Даяна', 'Рената': 'Рената', 'Луиза': 'Луїза', 'Маркиян': 'Маркіян', 'Эльдар': 'Ельдар', 'Лана': 'Лана', 'Божена': 'Божена', 'Мирон': 'Мирон', 'Милена': 'Мілена', 'Сюзанна': 'Сюзанна', 'Юлиан': 'Юліан', 'Андриан': 'Андріан', 'Эвелина': 'Евеліна', 'Инеса': 'Інеса', 'Карен': 'Карен', 'Милана': 'Мілана', 'Юлианна': 'Юліана', 'Али': 'Алі', 'Василиса': 'Василиса', 'Эрик': 'Ерік', 'Анар': 'Анар', 'Николь': 'Ніколь', 'Эрнест': 'Ернест', 'Лия': 'Лія', 'Эдгар': 'Едгар', 'Эмма': 'Емма', 'Анита': 'Аніта', 'Камила': 'Каміла', 'Марат': 'Марат', 'Демьян': \"Дем'ян\", 'Лилиана': 'Ліліана', 'Станислава': 'Станіслава', 'Эмиль': 'Еміль', 'Ярославна': 'Ярославна', 'Аделина': 'Аделіна', 'Зарина': 'Заріна', 'Феликс': 'Фелікс', 'Адам': 'Адам', 'Артем': 'Артем', 'Иосиф': 'Йосип', 'Нестор': 'Нестор', 'Армен': 'Армен', 'Вениамин': 'Веніамін', 'Мурад': 'Мурад', 'Самир': 'Самір', 'Эмилия': 'Емілія', 'Юлий': 'Юлій', 'Анна-Мария': 'Анна-Марія', 'Виола': 'Віола', 'Эрика': 'Еріка', 'Тереза': 'Тереза', 'Заур': 'Заур', 'Лаура': 'Лаура', 'Лика': 'Ліка', 'Мухаммед': 'Магомет', 'Роксана': 'Роксана', 'Алан': 'Алан', 'Альвина': 'Альвіна', 'Аля': 'Аля', 'Амина': 'Аміна', 'Даниэль': 'Даніель', 'Ефим': 'Юхим', 'Игнат': 'Ігнат', 'Павлина': 'Павліна', 'Радислав': 'Радислав', 'Ренат': 'Ренат', 'Ринат': 'Ринат', 'Роза': 'Роза', 'Тина': 'Тіна', 'Кристиан': 'Крістіан', 'Неонила': 'Неоніла', 'Романия': 'Романія', 'Стелла': 'Стелла', 'Сусанна': 'Сусанна', 'Тигран': 'Тигран', 'Арман': 'Арман', 'Ахмед': 'Ахмед', 'Влас': 'Влас', 'Дамир': 'Дамір', 'Зиновий': 'Зіновій', 'Клим': 'Клим', 'Мира': 'Мира', 'Нонна': 'Нонна', 'Савелий': 'Савелій', 'Серафима': 'Серафима', 'Стефан': 'Стефан', 'Тихон': nan, 'Эллина': 'Еліна', 'Алим': 'Алім', 'Андрияна': 'Андріяна', 'Ия': 'Ія', 'Камран': 'Камран', 'Нана': 'Нана', 'Орхан': 'Орхан', 'Романна': 'Романна', 'Рустем': 'Рустем', 'Северин': 'Северин', 'Стефания': 'Стефанія', 'Теймур': 'Теймур', 'Тома': 'Тома', 'Эльвина': 'Ельвіна', 'Ванда': 'Ванда', 'Карим': 'Карім', 'Макар': 'Макар', 'Эля': 'Еля', 'Юстина': 'Юстина', 'Арслан': 'Арслан', 'Гордей': 'Гордій', 'Даниела': 'Даніела', 'Изабелла': 'Ізабелла', 'Мадина': 'Мадіна', 'Платон': 'Платон', 'Серафим': 'Серафим', 'Шамиль': 'Шаміль', 'Влад': 'Влад', 'Евген': 'Євген', 'Алена': 'Альона', 'Деонид': 'Леонід', 'Эммануэль': 'Емануель', 'Самуэль': 'Самуїл', 'Кумар': 'Кумар', 'Маряна': \"Мар'яна\", 'Марян': \"Мар'ян\", 'Олена': 'Олена', 'Ник': 'Нік', 'Радмила': 'Радмила', 'Джон': 'Джон', 'Зорина': 'Зорина', 'Анфиса': 'Анфіса', 'Мальвина': 'Мальвіна', 'Динара': 'Дінара', 'Зореслава': 'Зереслава', 'Клавдия': 'Клавдія', 'Джеймс': 'Джеймс', 'Эльзара': 'Ельзара', 'Рая': 'Рая', 'Святослава': 'Святослава', 'Линда': 'Лінда', 'Венера': 'Венера', 'Евдокия': 'Євдокія', 'Алия': 'Алія', 'Фаина': 'Фаїна', 'Дзвенислава': 'Дзвенислава', 'Любава': 'Любава', 'Жан': 'Жан', 'Есения': 'Єсенія', 'Рада': 'Рада', 'Златослава': 'Златослава', 'Сильвия': 'Сільвія', 'Рузанна': 'Рузанна', 'Николетта': 'Ніколетта', 'Сандра': 'Сандра', 'Юнона': 'Юнона', 'Янис': 'Яніс', 'Мурат': 'Мурат', 'Ричард': 'Річард', 'Лола': 'Лола', 'Аннета': 'Аннета', 'Алика': 'Аліка', 'Адриан': 'Адріан', 'Агнеса': 'Агнеса', 'Омар': 'Омар', 'Ореста': 'Ореста', 'Эдвард': 'Едвард', 'Михайлина': 'Михайлина', 'Сузанна': 'Сузанна', 'Леон': 'Леон', 'Анетта': 'Анетта', 'Ванесса': 'Ванесса', 'Катарина': 'Катарина', 'Иляна': 'Іляна', 'Ирма': 'Ірма', 'Агнесса': 'Агнесса', 'Эльнара': 'Ельнара', 'Орислава': 'Орислава', 'Мелания': 'Меланія', 'Роланд': 'Роланд', 'Розалия': 'Розалія', 'Джулия': 'Джулія', 'Глория': 'Глорія', 'Мартин': 'Мартін', 'Устим': 'Устим', 'Симона': 'Симона', 'Леона': 'Леона', 'Панас': 'Панас', 'Ион': 'Іон', 'Томас': nan, 'Ярема': nan}\n"
     ]
    }
   ],
   "source": [
    "#HOW IT LOOKS LIKE\n",
    "print(name_dic_ru_to_ua)"
   ]
  },
  {
   "cell_type": "markdown",
   "metadata": {},
   "source": [
    "# BELOW ARE ALL THE COMPLEMENTARY FUNCTIONS USED (RUN THEM EVVERY TIME YOU OPEN THIS NOTEBOOK)"
   ]
  },
  {
   "cell_type": "code",
   "execution_count": 57,
   "metadata": {
    "collapsed": true
   },
   "outputs": [],
   "source": [
    "# [x,0] = the last name row\n",
    "# [x,1] = the first name row - if first/last names are not the same then not a match, if the same, could be a match\n",
    "                                #this will serve as a starting point \n",
    "# [x,2] = the job title row - if not the same, the person could change the profession, if the same medium likelihood\n",
    "                                #that it is a same person\n",
    "# [x,4] = the birthday row -> if not the same (more than a year difference) then not the same person\n",
    "                                #if the same, almost certainly it is a duplicate\n",
    "# [x,5] = the country row - if not the same, could still be the same person (relocated), if the same, doesn't tell much\n",
    "# [x,6] = the location row -> if not the same, could still be the same person (relocated), if the same, somewhat likely\n",
    "# [x,7] = the full name row  -> if not the same then definitely not a match and if the same, highly likely\n",
    "#print(df.iloc[2,1]==df.iloc[3,1])\n",
    "\n",
    "\n",
    "def find_duplicates(row_number):\n",
    "    duplicates_arr = [\"\" for x in range(len(df))]\n",
    "    sims = [[] for x in range(len(df))]\n",
    "    for r in range(len(df)):\n",
    "        if row_number == r:\n",
    "            sims[r] = []\n",
    "        else:\n",
    "            sim = []\n",
    "            #CHECKING LAST NAME SIMILARITY\n",
    "            if df.iloc[row_number,0] == df.iloc[r,0]:\n",
    "                sim.append('same')\n",
    "            #here if the last name are at least 75% similar, then we append 'almost the same'\n",
    "            #WARNING: can accidentally miss small last names because even one letter difference \n",
    "            #will cause a significant decrease in similarity AND can accidentally return that two long \n",
    "            #last names are similar because many a big number of different letters will not seem that\n",
    "            #significant compared to the length of the entire last name\n",
    "            elif last_name_similarity(df.iloc[row_number,0], df.iloc[r,0]) > 0.75:\n",
    "                sim.append('almost the same')\n",
    "            else: \n",
    "                sim.append('not same')\n",
    "                duplicates_arr[r] = 'not a duplicate'\n",
    "                continue\n",
    "            #CHECKING FIRST NAME SIMILARITY\n",
    "            if df.iloc[row_number,1] == df.iloc[r,1]:\n",
    "                sim.append('same')\n",
    "            #here we are checking if the russian version of the name is the same to current name\n",
    "            #or if ukrainian version of the name is the same to current name (since we can't know)\n",
    "            #if it's russian or ukrainian, so we check both\n",
    "            elif df.iloc[row_number, 1] in name_dic_ru_to_ua and df.iloc[r, 1] == name_dic_ru_to_ua[df.iloc[row_number, 1]]:\n",
    "                sim.append('same')\n",
    "            elif df.iloc[row_number, 1] in name_dic_ua_to_ru and df.iloc[r, 1] == name_dic_ua_to_ru[df.iloc[row_number, 1]]: \n",
    "                sim.append('same')\n",
    "            else: \n",
    "                sim.append('not same')\n",
    "                duplicates_arr[r] = 'not a duplicate'\n",
    "                continue\n",
    "            #CHECKING FOR PARENTAL NAME\n",
    "            if type(df.iloc[row_number,7]) != str or type(df.iloc[r,7]) != str or n_words(df.iloc[row_number,7])<3 or n_words(df.iloc[r,7])<3:\n",
    "                sim.append('no paternal name')\n",
    "            elif df.iloc[row_number,7].split(' ')[-1] == df.iloc[r,7].split(' ')[-1]:\n",
    "                sim.append('same')\n",
    "            else: \n",
    "                sim.append('not same')\n",
    "                duplicates_arr[r] = 'not a duplicate'\n",
    "                continue\n",
    "            #CHECKING FOR BIRTHDATE\n",
    "            if df.iloc[row_number,4] == df.iloc[r,4]:\n",
    "                sim.append('exactly the same')\n",
    "            #here we make sure that both dates are available\n",
    "            elif pd.isnull(df.iloc[row_number,4]) or pd.isnull(df.iloc[r,4]):\n",
    "                sim.append('one or two dates are missing')\n",
    "            #here we check if the difference is at most 1 year\n",
    "            elif birthday_diff(df.iloc[row_number,4], df.iloc[r,4]) < 2:\n",
    "                sim.append('almost the same')\n",
    "            else: \n",
    "                sim.append('not same')\n",
    "                duplicates_arr[r] = 'not a duplicate'\n",
    "                continue\n",
    "            #CHECKING FOR TITLE SIMILARITY\n",
    "            if df.iloc[row_number,2] == df.iloc[r,2]:\n",
    "                sim.append('exactly the same')\n",
    "            elif find_root(df.iloc[row_number,2], df.iloc[r,2]) > 0:\n",
    "                sim.append('almost the same with ' + str(find_root(df.iloc[row_number,2], df.iloc[r,2]))+ ' common words')\n",
    "            else: \n",
    "                sim.append('No common words')\n",
    "            sims[r] = sim\n",
    "    dup_fin = similarity_score(sims)\n",
    "    return dup_fin"
   ]
  },
  {
   "cell_type": "code",
   "execution_count": 58,
   "metadata": {},
   "outputs": [
    {
     "name": "stdout",
     "output_type": "stream",
     "text": [
      "Загоровець Ярослав\n",
      "Somewhat  likely to be a duplicate to row 33 by first and last names; and by job title 3 common words\n"
     ]
    }
   ],
   "source": [
    "#here if you want to check a particular row, enter the row number here\n",
    "#Python starts row indexing form 0, so to make sure you are looking at the right person, input row number in\n",
    "#both print statements (it's normally row number in the original excel file - 2)\n",
    "print(df.iloc[34,0], df.iloc[34,1])\n",
    "print(find_duplicates(34))"
   ]
  },
  {
   "cell_type": "code",
   "execution_count": 59,
   "metadata": {
    "collapsed": true
   },
   "outputs": [],
   "source": [
    "#this function produces the actualy entries to the column we will produce\n",
    "#the way it works: it inserts \"row x likely to be a duplicate to row y\" if the name and last names \n",
    "#in rows x and y are the same. Further, if brithday, title are the same or similary it appends Highly or\n",
    "#Somewhat likely to make the result more precise. If in the end, only last and first names were the same, then\n",
    "#we do not consider this a duplicate (because at least birthday or title need to be similar)\n",
    "def similarity_score(sims):\n",
    "    for i in range(len(sims)):\n",
    "        return_string = ''\n",
    "        if sims[i] != []:\n",
    "            if sims[i][0] == 'same' and sims[i][1] == 'same':\n",
    "                return_string += ' likely to be a duplicate to row ' + str(i) + ' by first and last names;'\n",
    "            elif sims[i][0] == 'almost the same' and sims[i][1] == 'same':\n",
    "                return_string += ' could be a duplicate to row ' + str(i) + ' by first and last names (not exact match);'\n",
    "            if sims[i][2] == 'same':\n",
    "                return_string += '(+ match by paternal name)'\n",
    "            if sims[i][3] == 'exactly the same':\n",
    "                return_string = 'Highly ' + return_string + ' and by birthdate (exactly the same)'\n",
    "            if sims[i][3] == 'almost the same':\n",
    "                return_string = 'Somewhat ' + return_string + ' and by birthdate (almost the same)'\n",
    "            if sims[i][4] == 'exactly the same':\n",
    "                return_string = 'Highly ' + return_string + ' and by job title (exactly the same)'\n",
    "            if sims[i][4][:6] == 'almost':\n",
    "                return_string = 'Somewhat ' + return_string + ' and by job title ' + sims[i][4][21:]\n",
    "        \n",
    "        #here if it's only first/last names, I am not adding anything\n",
    "        if return_string[:3] == ' li':\n",
    "            sims[i] = ''\n",
    "        else:\n",
    "            sims[i] = return_string\n",
    "    return \" \".join(sims).strip()\n",
    "        \n",
    "# same name, last name, paternal name, exact same birthday, country and city - definitely a duplicate\n",
    "# same name, last name, paternal name, almost the same birthday, country and city - highly likely a duplicate\n",
    "# same name, similar last name, same birthday - highly likely to be a duplicate\n",
    "# same name, almost the same birthday - potentially a duplicate"
   ]
  },
  {
   "cell_type": "code",
   "execution_count": 60,
   "metadata": {
    "collapsed": true
   },
   "outputs": [],
   "source": [
    "#this returns a similarity score between last names \n",
    "#later in the program, if similarity is abvoe 0.75, i consider them almost the same\n",
    "def last_name_similarity(ln1, ln2):\n",
    "    similarity = difflib.SequenceMatcher(None, ln1,ln2).ratio()\n",
    "    return similarity"
   ]
  },
  {
   "cell_type": "code",
   "execution_count": 61,
   "metadata": {
    "collapsed": true
   },
   "outputs": [],
   "source": [
    "#this finds the numbers of words with the same root in the title\n",
    "def find_root(title1, title2):\n",
    "    ps = PorterStemmer()\n",
    "    \n",
    "    if type(title1) == float or type(title2) == float:\n",
    "        return 0\n",
    "    \n",
    "    else:\n",
    "        title1_stem = []\n",
    "        for i in word_tokenize(title1):\n",
    "            title1_stem.append(ps.stem(i.lower()))\n",
    "        title2_stem = []\n",
    "        for i in word_tokenize(title2):\n",
    "            title2_stem.append(ps.stem(i.lower()))\n",
    "        common_words = set(title1_stem).intersection(set(title2_stem))\n",
    "        return len(common_words)"
   ]
  },
  {
   "cell_type": "code",
   "execution_count": 83,
   "metadata": {
    "collapsed": true
   },
   "outputs": [],
   "source": [
    "#this function finds the difference between years of birth\n",
    "#IMPORTANT THE DATE MUST BE IN THE FOLLOWING FORMAT = 'January 1, 1986' \n",
    "def birthday_diff(date1, date2):\n",
    "    year1 = int(str(date1).split(' ')[-1])\n",
    "    year2 = int(str(date2).split(' ')[-1])\n",
    "    diff = abs(year1 - year2)\n",
    "    return diff"
   ]
  },
  {
   "cell_type": "code",
   "execution_count": 84,
   "metadata": {},
   "outputs": [
    {
     "data": {
      "text/plain": [
       "10"
      ]
     },
     "execution_count": 84,
     "metadata": {},
     "output_type": "execute_result"
    }
   ],
   "source": [
    "#EXAMPLE\n",
    "birthday_diff('January 1, 1986', 'January 1, 1976')"
   ]
  },
  {
   "cell_type": "code",
   "execution_count": 64,
   "metadata": {
    "collapsed": true
   },
   "outputs": [],
   "source": [
    "#this calculates the number of words in a sentence\n",
    "def n_words(word):\n",
    "    a_string = word\n",
    "    word_list = a_string.split()\n",
    "\n",
    "    return len(word_list)"
   ]
  },
  {
   "cell_type": "markdown",
   "metadata": {},
   "source": [
    "#  RUN THESE FIELDS TO PRODUCE THE RESULTS"
   ]
  },
  {
   "cell_type": "markdown",
   "metadata": {},
   "source": [
    "###  STEP ONE - DOWNLOAD EXCEL FILE INTO A DATAFRAME"
   ]
  },
  {
   "cell_type": "markdown",
   "metadata": {},
   "source": [
    "The excel file must have the columns in the following order (filds that are required are in bold):  \n",
    "<b>LAST NAME</b> | <b>FIRST NAME</b> | TITLE (in English) | ID | <b>BIRTHDAY</b> | COUNTRY | LOCATION | CYRILLIC FULL NAME  \n",
    "\n",
    "\n",
    "\n",
    "IMPORTANT - the date must be in a specific format AS IN THE EXCEL FILE EXAMPLE I PROVIDED"
   ]
  },
  {
   "cell_type": "code",
   "execution_count": 90,
   "metadata": {},
   "outputs": [
    {
     "name": "stdout",
     "output_type": "stream",
     "text": [
      "  Last Name First Name   Translate CustomTitle  Candidate ID         Birthday  \\\n",
      "0     Adeel        Ali              Accountant   55097954002              NaN   \n",
      "1     Adeel        Ali              Accountant   54808308002  January 1, 1991   \n",
      "2      Adel    Mohamed              Accountant   70279083002  January 1, 1998   \n",
      "3    Aliyev      Kanan  Accountant, translator   70763946002  January 1, 1995   \n",
      "4  Adjabeng     Philip           Administrator   63031219002  January 1, 1994   \n",
      "\n",
      "   Country Custom location Cyrillic full name  \n",
      "0  Ukraine            Kyiv                NaN  \n",
      "1  Ukraine            Kyiv                NaN  \n",
      "2  Ukraine           Odesa                NaN  \n",
      "3  Ukraine            Kyiv                NaN  \n",
      "4  Ukraine            Kyiv                NaN  \n"
     ]
    }
   ],
   "source": [
    "#here we put in the path to the excel file we want\n",
    "#it also prints the head of the file to make sure that the file is correct \n",
    "file_errors_location = '/Users/nazaryaremko/Desktop/EXCEL FILE TEMPLATE.xlsx'\n",
    "df = pd.read_excel(file_errors_location)\n",
    "print(df.head(5))"
   ]
  },
  {
   "cell_type": "markdown",
   "metadata": {
    "collapsed": true
   },
   "source": [
    "### STEP TWO - CREATE A NEW COLUMN WITH THE RESULTS (THIS MIGHT RUN FOR A WHILE)"
   ]
  },
  {
   "cell_type": "code",
   "execution_count": 85,
   "metadata": {},
   "outputs": [
    {
     "name": "stdout",
     "output_type": "stream",
     "text": [
      "[['Highly  likely to be a duplicate to row 1 by first and last names; and by job title (exactly the same)'], ['Highly  likely to be a duplicate to row 0 by first and last names; and by job title (exactly the same)'], [''], ['Highly  likely to be a duplicate to row 56 by first and last names; and by birthdate (exactly the same)'], ['Somewhat  likely to be a duplicate to row 26 by first and last names; and by birthdate (almost the same)'], [''], [''], ['Somewhat  likely to be a duplicate to row 66 by first and last names; and by job title 1 common words'], ['Somewhat  likely to be a duplicate to row 64 by first and last names; and by birthdate (almost the same)       Somewhat Somewhat  likely to be a duplicate to row 71 by first and last names; and by birthdate (almost the same) and by job title 1 common words'], [''], ['Somewhat Somewhat  likely to be a duplicate to row 69 by first and last names; and by birthdate (almost the same) and by job title 1 common words'], [''], [''], ['Somewhat Somewhat  likely to be a duplicate to row 14 by first and last names; and by birthdate (almost the same) and by job title 2 common words'], ['Somewhat Somewhat  likely to be a duplicate to row 13 by first and last names; and by birthdate (almost the same) and by job title 2 common words'], ['Somewhat Somewhat  likely to be a duplicate to row 33 by first and last names; and by birthdate (almost the same) and by job title 1 common words'], ['Somewhat  likely to be a duplicate to row 17 by first and last names; and by job title 1 common words'], ['Somewhat  likely to be a duplicate to row 16 by first and last names; and by job title 1 common words'], [''], ['Somewhat Somewhat  likely to be a duplicate to row 22 by first and last names; and by birthdate (almost the same) and by job title 2 common words          Somewhat Somewhat  likely to be a duplicate to row 32 by first and last names; and by birthdate (almost the same) and by job title 4 common words'], [''], [''], ['Somewhat Somewhat  likely to be a duplicate to row 19 by first and last names; and by birthdate (almost the same) and by job title 2 common words             Somewhat Highly  likely to be a duplicate to row 32 by first and last names; and by birthdate (exactly the same) and by job title 2 common words'], [''], ['Somewhat Somewhat  likely to be a duplicate to row 102 by first and last names; and by birthdate (almost the same) and by job title 1 common words'], ['Somewhat  likely to be a duplicate to row 59 by first and last names; and by birthdate (almost the same)'], ['Somewhat  likely to be a duplicate to row 4 by first and last names; and by birthdate (almost the same)'], ['Somewhat Somewhat  likely to be a duplicate to row 28 by first and last names; and by birthdate (almost the same) and by job title 2 common words                                                                   Highly  likely to be a duplicate to row 95 by first and last names; and by birthdate (exactly the same)'], ['Somewhat Somewhat  likely to be a duplicate to row 27 by first and last names; and by birthdate (almost the same) and by job title 2 common words                                                                    Somewhat  likely to be a duplicate to row 95 by first and last names; and by birthdate (almost the same)'], [''], ['Somewhat  likely to be a duplicate to row 124 by first and last names; and by birthdate (almost the same)'], ['Somewhat Somewhat  likely to be a duplicate to row 53 by first and last names; and by birthdate (almost the same) and by job title 1 common words'], ['Somewhat Somewhat  likely to be a duplicate to row 19 by first and last names; and by birthdate (almost the same) and by job title 4 common words   Somewhat Highly  likely to be a duplicate to row 22 by first and last names; and by birthdate (exactly the same) and by job title 2 common words'], ['Somewhat Somewhat  likely to be a duplicate to row 15 by first and last names; and by birthdate (almost the same) and by job title 1 common words'], ['Somewhat  likely to be a duplicate to row 108 by first and last names; and by birthdate (almost the same)'], ['Highly  likely to be a duplicate to row 36 by first and last names; and by job title (exactly the same)'], ['Highly  likely to be a duplicate to row 35 by first and last names; and by job title (exactly the same)'], [''], ['Highly  likely to be a duplicate to row 98 by first and last names; and by birthdate (exactly the same)'], [''], ['Somewhat Highly  likely to be a duplicate to row 127 by first and last names; and by birthdate (exactly the same) and by job title 1 common words'], ['Highly  likely to be a duplicate to row 114 by first and last names; and by birthdate (exactly the same)'], [''], [''], [''], ['Somewhat Somewhat  likely to be a duplicate to row 70 by first and last names; and by birthdate (almost the same) and by job title 1 common words'], ['Highly Somewhat  likely to be a duplicate to row 47 by first and last names; and by birthdate (almost the same) and by job title (exactly the same)       Somewhat Highly  likely to be a duplicate to row 54 by first and last names; and by birthdate (exactly the same) and by job title 1 common words      Highly  likely to be a duplicate to row 60 by first and last names; and by birthdate (exactly the same)'], ['Highly Somewhat  likely to be a duplicate to row 46 by first and last names; and by birthdate (almost the same) and by job title (exactly the same)        Somewhat Somewhat  likely to be a duplicate to row 54 by first and last names; and by birthdate (almost the same) and by job title 1 common words      Somewhat  likely to be a duplicate to row 60 by first and last names; and by birthdate (almost the same)'], ['Somewhat Highly  likely to be a duplicate to row 119 by first and last names; and by birthdate (exactly the same) and by job title 2 common words Somewhat Somewhat  likely to be a duplicate to row 120 by first and last names; and by birthdate (almost the same) and by job title 1 common words'], [''], [''], [''], ['Somewhat Somewhat  likely to be a duplicate to row 104 by first and last names; and by birthdate (almost the same) and by job title 2 common words'], ['Somewhat Somewhat  likely to be a duplicate to row 31 by first and last names; and by birthdate (almost the same) and by job title 1 common words'], ['Somewhat Highly  likely to be a duplicate to row 46 by first and last names; and by birthdate (exactly the same) and by job title 1 common words Somewhat Somewhat  likely to be a duplicate to row 47 by first and last names; and by birthdate (almost the same) and by job title 1 common words             Highly  likely to be a duplicate to row 60 by first and last names; and by birthdate (exactly the same)'], ['Somewhat Highly  likely to be a duplicate to row 126 by first and last names; and by birthdate (exactly the same) and by job title 3 common words'], ['Highly  likely to be a duplicate to row 3 by first and last names; and by birthdate (exactly the same)'], [''], ['Somewhat  likely to be a duplicate to row 101 by first and last names; and by birthdate (almost the same)'], ['Somewhat  likely to be a duplicate to row 25 by first and last names; and by birthdate (almost the same)'], ['Highly  likely to be a duplicate to row 46 by first and last names; and by birthdate (exactly the same) Somewhat  likely to be a duplicate to row 47 by first and last names; and by birthdate (almost the same)       Highly  likely to be a duplicate to row 54 by first and last names; and by birthdate (exactly the same)'], [''], ['Somewhat Somewhat  likely to be a duplicate to row 91 by first and last names; and by birthdate (almost the same) and by job title 2 common words'], ['Somewhat Somewhat  likely to be a duplicate to row 79 by first and last names; and by birthdate (almost the same) and by job title 1 common words'], ['Somewhat  likely to be a duplicate to row 8 by first and last names; and by birthdate (almost the same)                                                               Somewhat  likely to be a duplicate to row 71 by first and last names; and by birthdate (almost the same)'], ['Somewhat Highly  likely to be a duplicate to row 68 by first and last names; and by birthdate (exactly the same) and by job title 1 common words'], ['Somewhat  likely to be a duplicate to row 7 by first and last names; and by job title 1 common words'], ['Highly  likely to be a duplicate to row 128 by first and last names; and by birthdate (exactly the same)'], ['Somewhat Highly  likely to be a duplicate to row 65 by first and last names; and by birthdate (exactly the same) and by job title 1 common words'], ['Somewhat Somewhat  likely to be a duplicate to row 10 by first and last names; and by birthdate (almost the same) and by job title 1 common words'], ['Somewhat Somewhat  likely to be a duplicate to row 45 by first and last names; and by birthdate (almost the same) and by job title 1 common words'], ['Somewhat Somewhat  likely to be a duplicate to row 8 by first and last names; and by birthdate (almost the same) and by job title 1 common words                                                        Somewhat  likely to be a duplicate to row 64 by first and last names; and by birthdate (almost the same)'], ['Somewhat Somewhat  likely to be a duplicate to row 117 by first and last names; and by birthdate (almost the same) and by job title 3 common words'], ['Somewhat Somewhat  likely to be a duplicate to row 78 by first and last names; and by birthdate (almost the same) and by job title 5 common words'], [''], ['Highly Somewhat  likely to be a duplicate to row 76 by first and last names; and by birthdate (almost the same) and by job title (exactly the same)'], ['Highly Somewhat  likely to be a duplicate to row 75 by first and last names; and by birthdate (almost the same) and by job title (exactly the same)'], ['Somewhat Somewhat  likely to be a duplicate to row 113 by first and last names; and by birthdate (almost the same) and by job title 1 common words'], ['Somewhat Somewhat  likely to be a duplicate to row 73 by first and last names; and by birthdate (almost the same) and by job title 5 common words'], ['Somewhat Somewhat  likely to be a duplicate to row 63 by first and last names; and by birthdate (almost the same) and by job title 1 common words'], [''], ['Somewhat  likely to be a duplicate to row 89 by first and last names; and by birthdate (almost the same) Somewhat  likely to be a duplicate to row 90 by first and last names; and by birthdate (almost the same)'], ['Somewhat  likely to be a duplicate to row 131 by first and last names; and by birthdate (almost the same)'], ['Highly Somewhat  likely to be a duplicate to row 84 by first and last names; and by birthdate (almost the same) and by job title (exactly the same)'], ['Highly Somewhat  likely to be a duplicate to row 83 by first and last names; and by birthdate (almost the same) and by job title (exactly the same)'], [''], [''], ['Highly Somewhat  likely to be a duplicate to row 88 by first and last names; and by birthdate (almost the same) and by job title (exactly the same)'], ['Highly Somewhat  likely to be a duplicate to row 87 by first and last names; and by birthdate (almost the same) and by job title (exactly the same)'], ['Somewhat  likely to be a duplicate to row 81 by first and last names; and by birthdate (almost the same)         Highly Somewhat  likely to be a duplicate to row 90 by first and last names; and by birthdate (almost the same) and by job title (exactly the same)'], ['Somewhat  likely to be a duplicate to row 81 by first and last names; and by birthdate (almost the same)        Highly Somewhat  likely to be a duplicate to row 89 by first and last names; and by birthdate (almost the same) and by job title (exactly the same)'], ['Somewhat Somewhat  likely to be a duplicate to row 62 by first and last names; and by birthdate (almost the same) and by job title 2 common words'], ['Somewhat  likely to be a duplicate to row 109 by first and last names; and by birthdate (almost the same)'], ['Somewhat Somewhat  likely to be a duplicate to row 107 by first and last names; and by birthdate (almost the same) and by job title 1 common words'], ['Highly  likely to be a duplicate to row 100 by first and last names; and by birthdate (exactly the same)'], ['Highly  likely to be a duplicate to row 27 by first and last names; and by birthdate (exactly the same) Somewhat  likely to be a duplicate to row 28 by first and last names; and by birthdate (almost the same)'], ['Highly Highly  likely to be a duplicate to row 97 by first and last names; and by birthdate (exactly the same) and by job title (exactly the same)'], ['Highly Highly  likely to be a duplicate to row 96 by first and last names; and by birthdate (exactly the same) and by job title (exactly the same)'], ['Highly  likely to be a duplicate to row 38 by first and last names; and by birthdate (exactly the same)'], ['Highly  likely to be a duplicate to row 125 by first and last names; and by birthdate (exactly the same)'], ['Highly  likely to be a duplicate to row 94 by first and last names; and by birthdate (exactly the same)'], ['Somewhat  likely to be a duplicate to row 58 by first and last names; and by birthdate (almost the same)'], ['Somewhat Somewhat  likely to be a duplicate to row 24 by first and last names; and by birthdate (almost the same) and by job title 1 common words'], [''], ['Somewhat Somewhat  likely to be a duplicate to row 52 by first and last names; and by birthdate (almost the same) and by job title 2 common words'], ['Highly Somewhat  likely to be a duplicate to row 106 by first and last names; and by birthdate (almost the same) and by job title (exactly the same)'], ['Highly Somewhat  likely to be a duplicate to row 105 by first and last names; and by birthdate (almost the same) and by job title (exactly the same)'], ['Somewhat Somewhat  likely to be a duplicate to row 93 by first and last names; and by birthdate (almost the same) and by job title 1 common words'], ['Somewhat  likely to be a duplicate to row 34 by first and last names; and by birthdate (almost the same)'], ['Somewhat  likely to be a duplicate to row 92 by first and last names; and by birthdate (almost the same)'], [''], [''], [''], ['Somewhat Somewhat  likely to be a duplicate to row 77 by first and last names; and by birthdate (almost the same) and by job title 1 common words'], ['Highly  likely to be a duplicate to row 41 by first and last names; and by birthdate (exactly the same)'], [''], ['Highly  likely to be a duplicate to row 123 by first and last names; and by birthdate (exactly the same)'], ['Somewhat Somewhat  likely to be a duplicate to row 72 by first and last names; and by birthdate (almost the same) and by job title 3 common words'], [''], ['Somewhat Highly  likely to be a duplicate to row 48 by first and last names; and by birthdate (exactly the same) and by job title 2 common words                                                                        Somewhat Somewhat  likely to be a duplicate to row 120 by first and last names; and by birthdate (almost the same) and by job title 4 common words'], ['Somewhat Somewhat  likely to be a duplicate to row 48 by first and last names; and by birthdate (almost the same) and by job title 1 common words                                                                       Somewhat Somewhat  likely to be a duplicate to row 119 by first and last names; and by birthdate (almost the same) and by job title 4 common words'], [''], [''], ['Highly  likely to be a duplicate to row 116 by first and last names; and by birthdate (exactly the same)'], ['Somewhat  likely to be a duplicate to row 30 by first and last names; and by birthdate (almost the same)'], ['Highly  likely to be a duplicate to row 99 by first and last names; and by birthdate (exactly the same)'], ['Somewhat Highly  likely to be a duplicate to row 55 by first and last names; and by birthdate (exactly the same) and by job title 3 common words'], ['Somewhat Highly  likely to be a duplicate to row 40 by first and last names; and by birthdate (exactly the same) and by job title 1 common words'], ['Highly  likely to be a duplicate to row 67 by first and last names; and by birthdate (exactly the same)'], ['Somewhat Highly  likely to be a duplicate to row 130 by first and last names; and by birthdate (exactly the same) and by job title 1 common words'], ['Somewhat Highly  likely to be a duplicate to row 129 by first and last names; and by birthdate (exactly the same) and by job title 1 common words'], ['Somewhat  likely to be a duplicate to row 82 by first and last names; and by birthdate (almost the same)']]\n"
     ]
    }
   ],
   "source": [
    "#here we create a list of all results for each row\n",
    "new_long_column = [[] for _ in range(len(df))]\n",
    "\n",
    "for i in range(len(df)):\n",
    "    new_long_column[i].append(find_duplicates(i))\n",
    "\n",
    "print(new_long_column)"
   ]
  },
  {
   "cell_type": "markdown",
   "metadata": {},
   "source": [
    "### STEP THREE - APPEND A NEW COLUMN TO YOUR DATAFRAME"
   ]
  },
  {
   "cell_type": "code",
   "execution_count": 101,
   "metadata": {
    "collapsed": true
   },
   "outputs": [],
   "source": [
    "#Here we append a new column to our dataframe (excel table that we saved in Python)\n",
    "df['Duplicates'] = new_long_column"
   ]
  },
  {
   "cell_type": "markdown",
   "metadata": {},
   "source": [
    "### STEP FOUR - DOWNLOAD THE OUTPUT FILE TO YOUR COMPUTER (THE NAME WILL BE OUTPUT.XLSX)"
   ]
  },
  {
   "cell_type": "code",
   "execution_count": 105,
   "metadata": {},
   "outputs": [
    {
     "name": "stdout",
     "output_type": "stream",
     "text": [
      "DataFrame is written successfully to Excel File.\n"
     ]
    }
   ],
   "source": [
    "# create excel writer object\n",
    "#you can change the name in the line below if you want\n",
    "df.to_excel(r'/Users/nazaryaremko/Desktop\\MY RESULT.xlsx', index = False)\n",
    "print('DataFrame is written successfully to Excel File.')"
   ]
  }
 ],
 "metadata": {
  "kernelspec": {
   "display_name": "Python 3",
   "language": "python",
   "name": "python3"
  },
  "language_info": {
   "codemirror_mode": {
    "name": "ipython",
    "version": 3
   },
   "file_extension": ".py",
   "mimetype": "text/x-python",
   "name": "python",
   "nbconvert_exporter": "python",
   "pygments_lexer": "ipython3",
   "version": "3.6.3"
  }
 },
 "nbformat": 4,
 "nbformat_minor": 2
}
